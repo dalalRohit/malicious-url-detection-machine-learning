{
 "cells": [
  {
   "cell_type": "code",
   "execution_count": 1,
   "metadata": {},
   "outputs": [],
   "source": [
    "import pandas as pd\n",
    "import matplotlib.pyplot as plt"
   ]
  },
  {
   "cell_type": "code",
   "execution_count": 8,
   "metadata": {},
   "outputs": [
    {
     "data": {
      "text/html": [
       "<div>\n",
       "<style scoped>\n",
       "    .dataframe tbody tr th:only-of-type {\n",
       "        vertical-align: middle;\n",
       "    }\n",
       "\n",
       "    .dataframe tbody tr th {\n",
       "        vertical-align: top;\n",
       "    }\n",
       "\n",
       "    .dataframe thead th {\n",
       "        text-align: right;\n",
       "    }\n",
       "</style>\n",
       "<table border=\"1\" class=\"dataframe\">\n",
       "  <thead>\n",
       "    <tr style=\"text-align: right;\">\n",
       "      <th></th>\n",
       "      <th>url</th>\n",
       "      <th>label</th>\n",
       "    </tr>\n",
       "  </thead>\n",
       "  <tbody>\n",
       "    <tr>\n",
       "      <th>0</th>\n",
       "      <td>http://br-ofertasimperdiveis.epizy.com/produto...</td>\n",
       "      <td>1</td>\n",
       "    </tr>\n",
       "    <tr>\n",
       "      <th>1</th>\n",
       "      <td>https://semana-da-oferta.com/produtos.php?id=5...</td>\n",
       "      <td>1</td>\n",
       "    </tr>\n",
       "    <tr>\n",
       "      <th>2</th>\n",
       "      <td>https://scrid-apps-creacust-sslhide90766752024...</td>\n",
       "      <td>1</td>\n",
       "    </tr>\n",
       "    <tr>\n",
       "      <th>3</th>\n",
       "      <td>http://my-softbank-security.com/wap_login.htm</td>\n",
       "      <td>1</td>\n",
       "    </tr>\n",
       "    <tr>\n",
       "      <th>4</th>\n",
       "      <td>http://www.my-softbank-security.com/wap_login.htm</td>\n",
       "      <td>1</td>\n",
       "    </tr>\n",
       "    <tr>\n",
       "      <th>...</th>\n",
       "      <td>...</td>\n",
       "      <td>...</td>\n",
       "    </tr>\n",
       "    <tr>\n",
       "      <th>1056932</th>\n",
       "      <td>montaguemillennium.com</td>\n",
       "      <td>0</td>\n",
       "    </tr>\n",
       "    <tr>\n",
       "      <th>1056933</th>\n",
       "      <td>museumneka.com</td>\n",
       "      <td>0</td>\n",
       "    </tr>\n",
       "    <tr>\n",
       "      <th>1056934</th>\n",
       "      <td>nationonenews.com</td>\n",
       "      <td>0</td>\n",
       "    </tr>\n",
       "    <tr>\n",
       "      <th>1056935</th>\n",
       "      <td>neoplasia.com</td>\n",
       "      <td>0</td>\n",
       "    </tr>\n",
       "    <tr>\n",
       "      <th>1056936</th>\n",
       "      <td>oxpdx.com</td>\n",
       "      <td>0</td>\n",
       "    </tr>\n",
       "  </tbody>\n",
       "</table>\n",
       "<p>1056937 rows × 2 columns</p>\n",
       "</div>"
      ],
      "text/plain": [
       "                                                       url  label\n",
       "0        http://br-ofertasimperdiveis.epizy.com/produto...      1\n",
       "1        https://semana-da-oferta.com/produtos.php?id=5...      1\n",
       "2        https://scrid-apps-creacust-sslhide90766752024...      1\n",
       "3            http://my-softbank-security.com/wap_login.htm      1\n",
       "4        http://www.my-softbank-security.com/wap_login.htm      1\n",
       "...                                                    ...    ...\n",
       "1056932                             montaguemillennium.com      0\n",
       "1056933                                     museumneka.com      0\n",
       "1056934                                  nationonenews.com      0\n",
       "1056935                                      neoplasia.com      0\n",
       "1056936                                          oxpdx.com      0\n",
       "\n",
       "[1056937 rows x 2 columns]"
      ]
     },
     "execution_count": 8,
     "metadata": {},
     "output_type": "execute_result"
    }
   ],
   "source": [
    "chunks=pd.read_csv('./new_dataset.csv',chunksize=50000)\n",
    "dataset_list = []  # append each chunk df here \n",
    "\n",
    "# Each chunk is in df format\n",
    "for chunk in chunks:  \n",
    "    # Once the data filtering is done, append the chunk to list\n",
    "    dataset_list.append(chunk)\n",
    "    \n",
    "# concat the list into dataframe \n",
    "links = pd.concat(dataset_list)\n",
    "links"
   ]
  },
  {
   "cell_type": "code",
   "execution_count": 9,
   "metadata": {},
   "outputs": [
    {
     "name": "stdout",
     "output_type": "stream",
     "text": [
      "<class 'pandas.core.frame.DataFrame'>\n",
      "RangeIndex: 1056937 entries, 0 to 1056936\n",
      "Data columns (total 2 columns):\n",
      " #   Column  Non-Null Count    Dtype \n",
      "---  ------  --------------    ----- \n",
      " 0   url     1056937 non-null  object\n",
      " 1   label   1056937 non-null  int64 \n",
      "dtypes: int64(1), object(1)\n",
      "memory usage: 16.1+ MB\n"
     ]
    }
   ],
   "source": [
    "links.info()"
   ]
  },
  {
   "cell_type": "code",
   "execution_count": 18,
   "metadata": {},
   "outputs": [],
   "source": [
    "links.groupby('label').count()\n",
    "data_df=links"
   ]
  },
  {
   "cell_type": "code",
   "execution_count": 22,
   "metadata": {},
   "outputs": [
    {
     "data": {
      "text/plain": [
       "Series([], dtype: int64)"
      ]
     },
     "execution_count": 22,
     "metadata": {},
     "output_type": "execute_result"
    }
   ],
   "source": [
    "malicious = data_df.filter(\"label = 1\")\n",
    "bening = data_df.filter(\"label = 0\")\n",
    "\n",
    "malicious.count()\n",
    "bening.count()\n",
    "\n"
   ]
  },
  {
   "cell_type": "code",
   "execution_count": 23,
   "metadata": {},
   "outputs": [
    {
     "name": "stdout",
     "output_type": "stream",
     "text": [
      "url     NaN\n",
      "label   NaN\n",
      "dtype: float64\n"
     ]
    },
    {
     "data": {
      "text/plain": [
       "\"\\nsample_bening = bening.sample(False, sampleRatio)\\n\\nsampled = malicious.unionAll(sample_bening)\\n\\nsampled.groupby('label').count().toPandas()\\n\""
      ]
     },
     "execution_count": 23,
     "metadata": {},
     "output_type": "execute_result"
    }
   ],
   "source": [
    "sampleRatio = malicious.count() / data_df.count()\n",
    "print(sampleRatio)\n",
    "'''\n",
    "sample_bening = bening.sample(False, sampleRatio)\n",
    "\n",
    "sampled = malicious.unionAll(sample_bening)\n",
    "\n",
    "sampled.groupby('label').count().toPandas()\n",
    "'''"
   ]
  },
  {
   "cell_type": "code",
   "execution_count": null,
   "metadata": {},
   "outputs": [],
   "source": []
  }
 ],
 "metadata": {
  "kernelspec": {
   "display_name": "Python 3",
   "language": "python",
   "name": "python3"
  },
  "language_info": {
   "codemirror_mode": {
    "name": "ipython",
    "version": 3
   },
   "file_extension": ".py",
   "mimetype": "text/x-python",
   "name": "python",
   "nbconvert_exporter": "python",
   "pygments_lexer": "ipython3",
   "version": "3.7.1"
  }
 },
 "nbformat": 4,
 "nbformat_minor": 4
}
