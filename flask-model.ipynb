{
 "cells": [
  {
   "cell_type": "code",
   "execution_count": 137,
   "metadata": {},
   "outputs": [],
   "source": [
    "import pandas as pd\n",
    "from sklearn import preprocessing\n",
    "from sklearn.ensemble import RandomForestClassifier\n",
    "import numpy as np\n",
    "from sklearn import svm\n",
    "from sklearn.model_selection import cross_validate as cv\n",
    "from sklearn.model_selection import cross_val_score\n",
    "import matplotlib.pylab as plt\n",
    "import warnings\n",
    "from sklearn.model_selection import train_test_split\n"
   ]
  },
  {
   "cell_type": "code",
   "execution_count": 135,
   "metadata": {},
   "outputs": [],
   "source": [
    "def get_nonstring_cols(data_cols):\n",
    "\tcols_to_keep=[]\n",
    "\ttrain_cols=[]\n",
    "\tfor col in data_cols:\n",
    "\t\tif col!='URL' and col!='host' and col!='path':\n",
    "\t\t\tcols_to_keep.append(col)\n",
    "\t\t\tif col!='malicious' and col!='result':\n",
    "\t\t\t\ttrain_cols.append(col)\n",
    "\treturn [cols_to_keep,train_cols]"
   ]
  },
  {
   "cell_type": "code",
   "execution_count": 138,
   "metadata": {},
   "outputs": [],
   "source": [
    "def get_test_features(urls_to_test):\n",
    "    features = []\n",
    "    for line in urls_to_test:\n",
    "        url = line.strip()\n",
    "        if url != '':\n",
    "            print('working on: ' + url)  # showoff\n",
    "            feature = urlfeature.feature_extract(url)\n",
    "            features.append(feature)\n",
    "    return features"
   ]
  },
  {
   "cell_type": "code",
   "execution_count": 142,
   "metadata": {
    "scrolled": false
   },
   "outputs": [
    {
     "data": {
      "text/plain": [
       "['token_count',\n",
       " 'rank_host',\n",
       " 'rank_country',\n",
       " 'ASNno',\n",
       " 'sec_sen_word_cnt',\n",
       " 'avg_token_length',\n",
       " 'No_of_dots',\n",
       " 'Length_of_url',\n",
       " 'avg_path_token',\n",
       " 'IPaddress_presence',\n",
       " 'Length_of_host',\n",
       " 'safebrowsing',\n",
       " 'avg_domain_token_length',\n",
       " 'path_token_count',\n",
       " 'largest_domain',\n",
       " 'domain_token_count',\n",
       " 'largest_path',\n",
       " 'largest_token']"
      ]
     },
     "execution_count": 142,
     "metadata": {},
     "output_type": "execute_result"
    }
   ],
   "source": [
    "df=pd.read_csv('url_features.csv')\n",
    "cols_to_keep,train_cols=get_nonstring_cols(df.columns)\n",
    "X=df[train_cols]\n",
    "y=df['malicious']\n",
    "train_cols"
   ]
  },
  {
   "cell_type": "code",
   "execution_count": 104,
   "metadata": {},
   "outputs": [],
   "source": [
    "X_train,X_test,y_train,y_test=train_test_split(X,y,test_size=0.3,random_state=42)"
   ]
  },
  {
   "cell_type": "code",
   "execution_count": 120,
   "metadata": {},
   "outputs": [
    {
     "data": {
      "text/html": [
       "<div>\n",
       "<style scoped>\n",
       "    .dataframe tbody tr th:only-of-type {\n",
       "        vertical-align: middle;\n",
       "    }\n",
       "\n",
       "    .dataframe tbody tr th {\n",
       "        vertical-align: top;\n",
       "    }\n",
       "\n",
       "    .dataframe thead th {\n",
       "        text-align: right;\n",
       "    }\n",
       "</style>\n",
       "<table border=\"1\" class=\"dataframe\">\n",
       "  <thead>\n",
       "    <tr style=\"text-align: right;\">\n",
       "      <th></th>\n",
       "      <th>token_count</th>\n",
       "      <th>rank_host</th>\n",
       "      <th>rank_country</th>\n",
       "      <th>ASNno</th>\n",
       "      <th>sec_sen_word_cnt</th>\n",
       "      <th>avg_token_length</th>\n",
       "      <th>No_of_dots</th>\n",
       "      <th>Length_of_url</th>\n",
       "      <th>avg_path_token</th>\n",
       "      <th>IPaddress_presence</th>\n",
       "      <th>Length_of_host</th>\n",
       "      <th>safebrowsing</th>\n",
       "      <th>avg_domain_token_length</th>\n",
       "      <th>path_token_count</th>\n",
       "      <th>largest_domain</th>\n",
       "      <th>domain_token_count</th>\n",
       "      <th>largest_path</th>\n",
       "      <th>largest_token</th>\n",
       "    </tr>\n",
       "  </thead>\n",
       "  <tbody>\n",
       "    <tr>\n",
       "      <th>608</th>\n",
       "      <td>6</td>\n",
       "      <td>-1</td>\n",
       "      <td>-1</td>\n",
       "      <td>22489</td>\n",
       "      <td>0</td>\n",
       "      <td>5.000000</td>\n",
       "      <td>2</td>\n",
       "      <td>37</td>\n",
       "      <td>4.0</td>\n",
       "      <td>0</td>\n",
       "      <td>15</td>\n",
       "      <td>0</td>\n",
       "      <td>7.000000</td>\n",
       "      <td>3</td>\n",
       "      <td>11</td>\n",
       "      <td>2</td>\n",
       "      <td>6</td>\n",
       "      <td>11</td>\n",
       "    </tr>\n",
       "    <tr>\n",
       "      <th>457</th>\n",
       "      <td>3</td>\n",
       "      <td>461</td>\n",
       "      <td>7</td>\n",
       "      <td>13335</td>\n",
       "      <td>0</td>\n",
       "      <td>4.000000</td>\n",
       "      <td>1</td>\n",
       "      <td>16</td>\n",
       "      <td>0.0</td>\n",
       "      <td>0</td>\n",
       "      <td>9</td>\n",
       "      <td>0</td>\n",
       "      <td>4.000000</td>\n",
       "      <td>0</td>\n",
       "      <td>5</td>\n",
       "      <td>2</td>\n",
       "      <td>0</td>\n",
       "      <td>5</td>\n",
       "    </tr>\n",
       "    <tr>\n",
       "      <th>290</th>\n",
       "      <td>3</td>\n",
       "      <td>219</td>\n",
       "      <td>113</td>\n",
       "      <td>14492</td>\n",
       "      <td>0</td>\n",
       "      <td>7.333333</td>\n",
       "      <td>1</td>\n",
       "      <td>26</td>\n",
       "      <td>0.0</td>\n",
       "      <td>0</td>\n",
       "      <td>19</td>\n",
       "      <td>0</td>\n",
       "      <td>9.000000</td>\n",
       "      <td>0</td>\n",
       "      <td>15</td>\n",
       "      <td>2</td>\n",
       "      <td>0</td>\n",
       "      <td>15</td>\n",
       "    </tr>\n",
       "    <tr>\n",
       "      <th>558</th>\n",
       "      <td>3</td>\n",
       "      <td>450</td>\n",
       "      <td>360</td>\n",
       "      <td>11691</td>\n",
       "      <td>0</td>\n",
       "      <td>5.000000</td>\n",
       "      <td>1</td>\n",
       "      <td>19</td>\n",
       "      <td>0.0</td>\n",
       "      <td>0</td>\n",
       "      <td>12</td>\n",
       "      <td>0</td>\n",
       "      <td>5.500000</td>\n",
       "      <td>0</td>\n",
       "      <td>8</td>\n",
       "      <td>2</td>\n",
       "      <td>0</td>\n",
       "      <td>8</td>\n",
       "    </tr>\n",
       "    <tr>\n",
       "      <th>168</th>\n",
       "      <td>4</td>\n",
       "      <td>120</td>\n",
       "      <td>175</td>\n",
       "      <td>38895</td>\n",
       "      <td>0</td>\n",
       "      <td>4.500000</td>\n",
       "      <td>2</td>\n",
       "      <td>23</td>\n",
       "      <td>0.0</td>\n",
       "      <td>0</td>\n",
       "      <td>16</td>\n",
       "      <td>0</td>\n",
       "      <td>4.666667</td>\n",
       "      <td>0</td>\n",
       "      <td>6</td>\n",
       "      <td>3</td>\n",
       "      <td>0</td>\n",
       "      <td>6</td>\n",
       "    </tr>\n",
       "  </tbody>\n",
       "</table>\n",
       "</div>"
      ],
      "text/plain": [
       "     token_count  rank_host  rank_country  ASNno  sec_sen_word_cnt  \\\n",
       "608            6         -1            -1  22489                 0   \n",
       "457            3        461             7  13335                 0   \n",
       "290            3        219           113  14492                 0   \n",
       "558            3        450           360  11691                 0   \n",
       "168            4        120           175  38895                 0   \n",
       "\n",
       "     avg_token_length  No_of_dots  Length_of_url  avg_path_token  \\\n",
       "608          5.000000           2             37             4.0   \n",
       "457          4.000000           1             16             0.0   \n",
       "290          7.333333           1             26             0.0   \n",
       "558          5.000000           1             19             0.0   \n",
       "168          4.500000           2             23             0.0   \n",
       "\n",
       "     IPaddress_presence  Length_of_host  safebrowsing  \\\n",
       "608                   0              15             0   \n",
       "457                   0               9             0   \n",
       "290                   0              19             0   \n",
       "558                   0              12             0   \n",
       "168                   0              16             0   \n",
       "\n",
       "     avg_domain_token_length  path_token_count  largest_domain  \\\n",
       "608                 7.000000                 3              11   \n",
       "457                 4.000000                 0               5   \n",
       "290                 9.000000                 0              15   \n",
       "558                 5.500000                 0               8   \n",
       "168                 4.666667                 0               6   \n",
       "\n",
       "     domain_token_count  largest_path  largest_token  \n",
       "608                   2             6             11  \n",
       "457                   2             0              5  \n",
       "290                   2             0             15  \n",
       "558                   2             0              8  \n",
       "168                   3             0              6  "
      ]
     },
     "execution_count": 120,
     "metadata": {},
     "output_type": "execute_result"
    }
   ],
   "source": [
    "X_test.head()"
   ]
  },
  {
   "cell_type": "code",
   "execution_count": 106,
   "metadata": {},
   "outputs": [],
   "source": [
    "rf = RandomForestClassifier(n_estimators=150)"
   ]
  },
  {
   "cell_type": "code",
   "execution_count": 107,
   "metadata": {},
   "outputs": [
    {
     "data": {
      "text/plain": [
       "RandomForestClassifier(bootstrap=True, class_weight=None, criterion='gini',\n",
       "            max_depth=None, max_features='auto', max_leaf_nodes=None,\n",
       "            min_impurity_decrease=0.0, min_impurity_split=None,\n",
       "            min_samples_leaf=1, min_samples_split=2,\n",
       "            min_weight_fraction_leaf=0.0, n_estimators=150, n_jobs=None,\n",
       "            oob_score=False, random_state=None, verbose=0,\n",
       "            warm_start=False)"
      ]
     },
     "execution_count": 107,
     "metadata": {},
     "output_type": "execute_result"
    }
   ],
   "source": [
    "rf.fit(X_train,y_train)"
   ]
  },
  {
   "cell_type": "code",
   "execution_count": 108,
   "metadata": {},
   "outputs": [],
   "source": [
    "scores=cross_val_score(rf, X_train,y_train , cv=30)"
   ]
  },
  {
   "cell_type": "code",
   "execution_count": 109,
   "metadata": {},
   "outputs": [
    {
     "data": {
      "text/plain": [
       "'Estimated score RandomForestClassifier: 0.98512 (+/- 0.01433)'"
      ]
     },
     "execution_count": 109,
     "metadata": {},
     "output_type": "execute_result"
    }
   ],
   "source": [
    "'Estimated score RandomForestClassifier: %0.5f (+/- %0.5f)' % (scores.mean(), scores.std() / 2)"
   ]
  },
  {
   "cell_type": "code",
   "execution_count": 110,
   "metadata": {},
   "outputs": [
    {
     "data": {
      "text/plain": [
       "array([2, 0, 0, 0, 0, 2, 2, 0, 0, 2, 2, 1, 0, 0, 0, 0, 0, 0, 2, 0, 0, 0,\n",
       "       0, 2, 0, 0, 2, 0, 2, 0, 0, 0, 1, 0, 0, 0, 0, 2, 0, 0, 0, 2, 0, 2,\n",
       "       0, 0, 2, 2, 2, 0, 2, 2, 0, 0, 0, 0, 2, 2, 2, 0, 2, 2, 2, 0, 2, 0,\n",
       "       0, 0, 0, 0, 2, 0, 0, 0, 0, 2, 0, 2, 0, 0, 2, 0, 2, 0, 0, 0, 0, 0,\n",
       "       0, 1, 0, 0, 0, 0, 0, 0, 0, 0, 0, 0, 2, 2, 2, 0, 0, 0, 2, 0, 2, 2,\n",
       "       0, 0, 0, 2, 2, 2, 0, 2, 0, 2, 0, 0, 0, 1, 0, 2, 0, 2, 0, 2, 2, 2,\n",
       "       0, 0, 0, 0, 0, 0, 0, 0, 0, 2, 2, 0, 2, 0, 0, 2, 0, 2, 0, 2, 2, 1,\n",
       "       0, 0, 0, 0, 0, 2, 0, 2, 0, 0, 2, 2, 0, 2, 0, 2, 2, 0, 2, 0, 1, 2,\n",
       "       0, 2, 0, 2, 0, 0, 1, 0, 0, 0, 0, 0, 2, 2, 0, 2, 0, 0, 0, 2, 0, 2,\n",
       "       0, 0, 2, 0, 2, 2, 2, 0, 0, 2, 0, 2, 0, 2, 0, 2, 0, 0, 2, 1, 0, 0,\n",
       "       0, 2, 0, 0, 0, 1, 0, 0, 0, 0, 0, 0, 2, 0, 0, 1, 2, 0, 1, 0, 0, 0,\n",
       "       2, 0, 2, 0, 2, 0, 0], dtype=int64)"
      ]
     },
     "execution_count": 110,
     "metadata": {},
     "output_type": "execute_result"
    }
   ],
   "source": [
    "rf.predict(X_test)"
   ]
  },
  {
   "cell_type": "code",
   "execution_count": 129,
   "metadata": {},
   "outputs": [],
   "source": [
    "test_urls=['https://www.google.com','https://www.twitter.com']"
   ]
  },
  {
   "cell_type": "code",
   "execution_count": 139,
   "metadata": {},
   "outputs": [],
   "source": [
    "test_links_features=[\n",
    "    {'safebrowsing': -1, 'token_count': 4, 'avg_path_token': 0, 'largest_path': 0, 'largest_token': 7, 'URL': 'https://www.twitter.com', 'sec_sen_word_cnt': 0, 'IPaddress_presence': 0, 'largest_domain': 7, 'No_of_dots': 2, 'host': 'www.twitter.com', 'Length_of_url': 23, 'ASNno': -1, 'rank_country': u'28', 'rank_host': u'44', 'path_token_count': 0, 'domain_token_count': 3, 'path': '', 'avg_token_length': 4.5, 'avg_domain_token_length': 4.333333333333333, 'Length_of_host': 15},\n",
    "    {'safebrowsing': -1, 'token_count': 4, 'avg_path_token': 0, 'largest_path': 0, 'largest_token': 6, 'URL': 'https://www.google.com', 'sec_sen_word_cnt': 0, 'IPaddress_presence': 0, 'largest_domain': 6, 'No_of_dots': 2, 'host': 'www.google.com', 'Length_of_url': 22, 'ASNno': 15169, 'rank_country': u'1', 'rank_host': u'1', 'path_token_count': 0, 'domain_token_count': 3, 'path': '', 'avg_token_length': 4.25, 'avg_domain_token_length': 4.0, 'Length_of_host': 14}\n",
    "]\n"
   ]
  },
  {
   "cell_type": "code",
   "execution_count": 140,
   "metadata": {},
   "outputs": [],
   "source": [
    "test_df = pd.DataFrame(test_links_features)"
   ]
  },
  {
   "cell_type": "code",
   "execution_count": 141,
   "metadata": {},
   "outputs": [
    {
     "data": {
      "text/plain": [
       "array([0, 0], dtype=int64)"
      ]
     },
     "execution_count": 141,
     "metadata": {},
     "output_type": "execute_result"
    }
   ],
   "source": [
    "x_test=test_df[train_cols]\n",
    "rf.predict(x_test)"
   ]
  },
  {
   "cell_type": "code",
   "execution_count": null,
   "metadata": {},
   "outputs": [],
   "source": []
  }
 ],
 "metadata": {
  "kernelspec": {
   "display_name": "Python 3",
   "language": "python",
   "name": "python3"
  },
  "language_info": {
   "codemirror_mode": {
    "name": "ipython",
    "version": 3
   },
   "file_extension": ".py",
   "mimetype": "text/x-python",
   "name": "python",
   "nbconvert_exporter": "python",
   "pygments_lexer": "ipython3",
   "version": "3.7.1"
  }
 },
 "nbformat": 4,
 "nbformat_minor": 2
}
