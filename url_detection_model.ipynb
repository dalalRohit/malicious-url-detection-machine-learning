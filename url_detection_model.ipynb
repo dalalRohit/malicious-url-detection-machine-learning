{
  "nbformat": 4,
  "nbformat_minor": 0,
  "metadata": {
    "colab": {
      "name": "url_detection_model.ipynb",
      "provenance": [],
      "collapsed_sections": [],
      "toc_visible": true,
      "authorship_tag": "ABX9TyNArhpdmdrNzwyMH988jDts",
      "include_colab_link": true
    },
    "kernelspec": {
      "name": "python3",
      "display_name": "Python 3"
    }
  },
  "cells": [
    {
      "cell_type": "markdown",
      "metadata": {
        "id": "view-in-github",
        "colab_type": "text"
      },
      "source": [
        "<a href=\"https://colab.research.google.com/github/dalalRohit/shraddha-proj/blob/master/url_detection_model.ipynb\" target=\"_parent\"><img src=\"https://colab.research.google.com/assets/colab-badge.svg\" alt=\"Open In Colab\"/></a>"
      ]
    },
    {
      "cell_type": "code",
      "metadata": {
        "id": "6-WYhDVNiyHf",
        "colab_type": "code",
        "colab": {
          "base_uri": "https://localhost:8080/",
          "height": 36
        },
        "outputId": "95882c0f-c020-4924-db4f-10ff4f00dd39"
      },
      "source": [
        "from google.colab import drive\n",
        "drive.mount('/content/drive')"
      ],
      "execution_count": 24,
      "outputs": [
        {
          "output_type": "stream",
          "text": [
            "Drive already mounted at /content/drive; to attempt to forcibly remount, call drive.mount(\"/content/drive\", force_remount=True).\n"
          ],
          "name": "stdout"
        }
      ]
    },
    {
      "cell_type": "code",
      "metadata": {
        "id": "JdzmNSDLgSvO",
        "colab_type": "code",
        "colab": {}
      },
      "source": [
        "import pandas as pd\n",
        "import numpy as np\n",
        "import pickle\n",
        "from sklearn.linear_model import LogisticRegression\n",
        "from sklearn.model_selection import train_test_split\n",
        "from sklearn.metrics import confusion_matrix"
      ],
      "execution_count": 0,
      "outputs": []
    },
    {
      "cell_type": "code",
      "metadata": {
        "id": "HAhR034dgmE7",
        "colab_type": "code",
        "colab": {}
      },
      "source": [
        "df=pd.read_csv('/content/drive/My Drive/dataset_combined.csv')"
      ],
      "execution_count": 0,
      "outputs": []
    },
    {
      "cell_type": "code",
      "metadata": {
        "id": "n1Qkzk5zg4ah",
        "colab_type": "code",
        "outputId": "6896a75c-7390-4bd5-bca9-fb7d10829c49",
        "colab": {
          "base_uri": "https://localhost:8080/",
          "height": 537
        }
      },
      "source": [
        "df.info()"
      ],
      "execution_count": 0,
      "outputs": [
        {
          "output_type": "stream",
          "text": [
            "<class 'pandas.core.frame.DataFrame'>\n",
            "RangeIndex: 71436 entries, 0 to 71435\n",
            "Data columns (total 21 columns):\n",
            " #   Column                   Non-Null Count  Dtype  \n",
            "---  ------                   --------------  -----  \n",
            " 0   URL                      71429 non-null  object \n",
            " 1   rank_host                71429 non-null  float64\n",
            " 2   rank_country             71429 non-null  float64\n",
            " 3   host                     71429 non-null  object \n",
            " 4   path                     52659 non-null  object \n",
            " 5   Length_of_url            71429 non-null  float64\n",
            " 6   Length_of_host           71429 non-null  float64\n",
            " 7   No_of_dots               71429 non-null  float64\n",
            " 8   avg_token_length         71429 non-null  float64\n",
            " 9   token_count              71429 non-null  float64\n",
            " 10  largest_token            71429 non-null  float64\n",
            " 11  avg_domain_token_length  71429 non-null  float64\n",
            " 12  domain_token_count       71429 non-null  float64\n",
            " 13  largest_domain           71429 non-null  float64\n",
            " 14  avg_path_token           71429 non-null  float64\n",
            " 15  path_token_count         71429 non-null  float64\n",
            " 16  largest_path             71429 non-null  float64\n",
            " 17  sec_sen_word_cnt         71429 non-null  float64\n",
            " 18  IPaddress_presence       71429 non-null  float64\n",
            " 19  ASNno                    71429 non-null  object \n",
            " 20  label                    71429 non-null  float64\n",
            "dtypes: float64(17), object(4)\n",
            "memory usage: 11.4+ MB\n"
          ],
          "name": "stdout"
        }
      ]
    },
    {
      "cell_type": "code",
      "metadata": {
        "id": "RVGlV2nNg6aU",
        "colab_type": "code",
        "colab": {}
      },
      "source": [
        "columns=[\n",
        "    'rank_host','rank_country','Length_of_url',\n",
        "    'Length_of_host','No_of_dots','avg_token_length','token_count',\n",
        "    'largest_token','avg_domain_token_length','domain_token_count',\n",
        "    'largest_domain','avg_path_token','path_token_count','largest_path',\n",
        "    'sec_sen_word_cnt','IPaddress_presence',\n",
        "]"
      ],
      "execution_count": 0,
      "outputs": []
    },
    {
      "cell_type": "markdown",
      "metadata": {
        "id": "MiLgodN7hFWa",
        "colab_type": "text"
      },
      "source": [
        "## Pre-processing"
      ]
    },
    {
      "cell_type": "code",
      "metadata": {
        "id": "61JBkBenhMtJ",
        "colab_type": "code",
        "outputId": "fc1a97eb-500b-4241-c4e2-7a4d25b47682",
        "colab": {
          "base_uri": "https://localhost:8080/",
          "height": 425
        }
      },
      "source": [
        "#https://stackoverflow.com/questions/34779961/scikit-learn-input-contains-nan-infinity-or-a-value-too-large-for-dtype-flo\n",
        "df.isnull().any()"
      ],
      "execution_count": 0,
      "outputs": [
        {
          "output_type": "execute_result",
          "data": {
            "text/plain": [
              "URL                        True\n",
              "rank_host                  True\n",
              "rank_country               True\n",
              "host                       True\n",
              "path                       True\n",
              "Length_of_url              True\n",
              "Length_of_host             True\n",
              "No_of_dots                 True\n",
              "avg_token_length           True\n",
              "token_count                True\n",
              "largest_token              True\n",
              "avg_domain_token_length    True\n",
              "domain_token_count         True\n",
              "largest_domain             True\n",
              "avg_path_token             True\n",
              "path_token_count           True\n",
              "largest_path               True\n",
              "sec_sen_word_cnt           True\n",
              "IPaddress_presence         True\n",
              "ASNno                      True\n",
              "label                      True\n",
              "dtype: bool"
            ]
          },
          "metadata": {
            "tags": []
          },
          "execution_count": 7
        }
      ]
    },
    {
      "cell_type": "markdown",
      "metadata": {
        "id": "cSGcwnqChAHA",
        "colab_type": "text"
      },
      "source": [
        ""
      ]
    },
    {
      "cell_type": "code",
      "metadata": {
        "id": "aL7ZwFCjhRyX",
        "colab_type": "code",
        "colab": {}
      },
      "source": [
        "df=df.fillna(0)"
      ],
      "execution_count": 0,
      "outputs": []
    },
    {
      "cell_type": "code",
      "metadata": {
        "id": "ruPTeAw3hSa2",
        "colab_type": "code",
        "colab": {}
      },
      "source": [
        "# https://stackoverflow.com/questions/17477979/dropping-infinite-values-from-dataframes-in-pandas\n",
        "df=df.replace([np.inf,-np.inf],np.nan).dropna(subset=columns,how='all')"
      ],
      "execution_count": 0,
      "outputs": []
    },
    {
      "cell_type": "code",
      "metadata": {
        "id": "RvvqxhG2hT_d",
        "colab_type": "code",
        "colab": {}
      },
      "source": [
        "df=df.dropna(how='all')"
      ],
      "execution_count": 0,
      "outputs": []
    },
    {
      "cell_type": "code",
      "metadata": {
        "id": "_idwllaXhVTS",
        "colab_type": "code",
        "outputId": "123a1c89-fea4-4187-cd7d-70d62e0c62ec",
        "colab": {
          "base_uri": "https://localhost:8080/",
          "height": 537
        }
      },
      "source": [
        "df.info()"
      ],
      "execution_count": 0,
      "outputs": [
        {
          "output_type": "stream",
          "text": [
            "<class 'pandas.core.frame.DataFrame'>\n",
            "Int64Index: 71436 entries, 0 to 71435\n",
            "Data columns (total 21 columns):\n",
            " #   Column                   Non-Null Count  Dtype  \n",
            "---  ------                   --------------  -----  \n",
            " 0   URL                      71436 non-null  object \n",
            " 1   rank_host                71436 non-null  float64\n",
            " 2   rank_country             71436 non-null  float64\n",
            " 3   host                     71436 non-null  object \n",
            " 4   path                     71436 non-null  object \n",
            " 5   Length_of_url            71436 non-null  float64\n",
            " 6   Length_of_host           71436 non-null  float64\n",
            " 7   No_of_dots               71436 non-null  float64\n",
            " 8   avg_token_length         71436 non-null  float64\n",
            " 9   token_count              71436 non-null  float64\n",
            " 10  largest_token            71436 non-null  float64\n",
            " 11  avg_domain_token_length  71436 non-null  float64\n",
            " 12  domain_token_count       71436 non-null  float64\n",
            " 13  largest_domain           71436 non-null  float64\n",
            " 14  avg_path_token           71436 non-null  float64\n",
            " 15  path_token_count         71436 non-null  float64\n",
            " 16  largest_path             71436 non-null  float64\n",
            " 17  sec_sen_word_cnt         71436 non-null  float64\n",
            " 18  IPaddress_presence       71436 non-null  float64\n",
            " 19  ASNno                    71436 non-null  object \n",
            " 20  label                    71436 non-null  float64\n",
            "dtypes: float64(17), object(4)\n",
            "memory usage: 12.0+ MB\n"
          ],
          "name": "stdout"
        }
      ]
    },
    {
      "cell_type": "code",
      "metadata": {
        "id": "a8UR6PmFhW0U",
        "colab_type": "code",
        "colab": {}
      },
      "source": [
        "#Get dataset in X and Y\n",
        "X=df[columns]\n",
        "y=df['label']"
      ],
      "execution_count": 0,
      "outputs": []
    },
    {
      "cell_type": "code",
      "metadata": {
        "id": "iqQ_vc3Ahb3e",
        "colab_type": "code",
        "colab": {}
      },
      "source": [
        ""
      ],
      "execution_count": 0,
      "outputs": []
    },
    {
      "cell_type": "markdown",
      "metadata": {
        "id": "o12l2BNXhd4_",
        "colab_type": "text"
      },
      "source": [
        "## Train_test_split"
      ]
    },
    {
      "cell_type": "code",
      "metadata": {
        "id": "cRpD9HXkhhM3",
        "colab_type": "code",
        "colab": {}
      },
      "source": [
        "X_train,X_test,y_train,y_test=train_test_split(X,y,test_size=0.3,random_state=42)"
      ],
      "execution_count": 0,
      "outputs": []
    },
    {
      "cell_type": "code",
      "metadata": {
        "id": "vOkoDvUOhigd",
        "colab_type": "code",
        "outputId": "c132ec46-c447-4b4d-bfb6-7d9febf98b6d",
        "colab": {
          "base_uri": "https://localhost:8080/",
          "height": 110
        }
      },
      "source": [
        "print('Training dataset X=>length: [X_train]',len(X_train))\n",
        "print('Training dataset Y=>length: [y_train] ',len(y_train))\n",
        "\n",
        "print('\\nTesting dataset X=>length: [X_test]',len(X_test))\n",
        "print('Training dataset Y=>length: [y_test]',len(y_test))\n"
      ],
      "execution_count": 0,
      "outputs": [
        {
          "output_type": "stream",
          "text": [
            "Training dataset X=>length: [X_train] 50005\n",
            "Training dataset Y=>length: [y_train]  50005\n",
            "\n",
            "Testing dataset X=>length: [X_test] 21431\n",
            "Training dataset Y=>length: [y_test] 21431\n"
          ],
          "name": "stdout"
        }
      ]
    },
    {
      "cell_type": "markdown",
      "metadata": {
        "id": "_juxU8MOhndE",
        "colab_type": "text"
      },
      "source": [
        "## Model"
      ]
    },
    {
      "cell_type": "code",
      "metadata": {
        "id": "4Yp1GIMPhqnv",
        "colab_type": "code",
        "colab": {}
      },
      "source": [
        "clf = LogisticRegression(random_state=0,solver='liblinear')"
      ],
      "execution_count": 0,
      "outputs": []
    },
    {
      "cell_type": "code",
      "metadata": {
        "id": "9xdaSDLEhsk0",
        "colab_type": "code",
        "outputId": "13401a4d-9ee6-427f-a25f-dc06edd62b3b",
        "colab": {
          "base_uri": "https://localhost:8080/",
          "height": 110
        }
      },
      "source": [
        "clf.fit(X_train,y_train)"
      ],
      "execution_count": 0,
      "outputs": [
        {
          "output_type": "execute_result",
          "data": {
            "text/plain": [
              "LogisticRegression(C=1.0, class_weight=None, dual=False, fit_intercept=True,\n",
              "                   intercept_scaling=1, l1_ratio=None, max_iter=100,\n",
              "                   multi_class='auto', n_jobs=None, penalty='l2',\n",
              "                   random_state=0, solver='liblinear', tol=0.0001, verbose=0,\n",
              "                   warm_start=False)"
            ]
          },
          "metadata": {
            "tags": []
          },
          "execution_count": 16
        }
      ]
    },
    {
      "cell_type": "code",
      "metadata": {
        "id": "li9KpEsnhssg",
        "colab_type": "code",
        "colab": {}
      },
      "source": [
        "y_pred=clf.predict(X_test)"
      ],
      "execution_count": 0,
      "outputs": []
    },
    {
      "cell_type": "code",
      "metadata": {
        "id": "rpC2AMf0hyMU",
        "colab_type": "code",
        "outputId": "53449db8-1814-4f69-9250-d08b821e936e",
        "colab": {
          "base_uri": "https://localhost:8080/",
          "height": 36
        }
      },
      "source": [
        "clf.score(X_test,y_test)"
      ],
      "execution_count": 0,
      "outputs": [
        {
          "output_type": "execute_result",
          "data": {
            "text/plain": [
              "0.8589893145443517"
            ]
          },
          "metadata": {
            "tags": []
          },
          "execution_count": 18
        }
      ]
    },
    {
      "cell_type": "code",
      "metadata": {
        "id": "H9al-_q0h0tm",
        "colab_type": "code",
        "outputId": "94092aaf-d84f-4840-95bd-762f1c475354",
        "colab": {
          "base_uri": "https://localhost:8080/",
          "height": 147
        }
      },
      "source": [
        "clf.predict_proba(X_test)"
      ],
      "execution_count": 0,
      "outputs": [
        {
          "output_type": "execute_result",
          "data": {
            "text/plain": [
              "array([[0.25752699, 0.74247301],\n",
              "       [0.30563718, 0.69436282],\n",
              "       [0.32884617, 0.67115383],\n",
              "       ...,\n",
              "       [0.5948177 , 0.4051823 ],\n",
              "       [0.30175351, 0.69824649],\n",
              "       [0.58238754, 0.41761246]])"
            ]
          },
          "metadata": {
            "tags": []
          },
          "execution_count": 19
        }
      ]
    },
    {
      "cell_type": "code",
      "metadata": {
        "id": "pxOfj3g7h0xq",
        "colab_type": "code",
        "outputId": "b33bc24a-276c-4d5b-e3ad-933377bb1148",
        "colab": {
          "base_uri": "https://localhost:8080/",
          "height": 36
        }
      },
      "source": [
        "clf.classes_"
      ],
      "execution_count": 0,
      "outputs": [
        {
          "output_type": "execute_result",
          "data": {
            "text/plain": [
              "array([0., 1.])"
            ]
          },
          "metadata": {
            "tags": []
          },
          "execution_count": 20
        }
      ]
    },
    {
      "cell_type": "markdown",
      "metadata": {
        "id": "Cb9KTJjkh_-J",
        "colab_type": "text"
      },
      "source": [
        "## Confusion Matrix Sample\n",
        "![Confusion Matrix Sample](https://media.geeksforgeeks.org/wp-content/uploads/Confusion_Matrix1_1.png)"
      ]
    },
    {
      "cell_type": "code",
      "metadata": {
        "id": "NBiGa47ih00P",
        "colab_type": "code",
        "outputId": "23434100-3266-493b-fa2a-d0d3018f9028",
        "colab": {
          "base_uri": "https://localhost:8080/",
          "height": 54
        }
      },
      "source": [
        "confusion_matrix(y_test, y_pred)"
      ],
      "execution_count": 23,
      "outputs": [
        {
          "output_type": "execute_result",
          "data": {
            "text/plain": [
              "array([[ 6204,  1751],\n",
              "       [ 1271, 12205]])"
            ]
          },
          "metadata": {
            "tags": []
          },
          "execution_count": 23
        }
      ]
    },
    {
      "cell_type": "code",
      "metadata": {
        "id": "ajNUUXJFh027",
        "colab_type": "code",
        "outputId": "38cb43fd-d386-4f25-db0d-a816ac162cde",
        "colab": {
          "base_uri": "https://localhost:8080/",
          "height": 296
        }
      },
      "source": [
        "clf.get_params()"
      ],
      "execution_count": 0,
      "outputs": [
        {
          "output_type": "execute_result",
          "data": {
            "text/plain": [
              "{'C': 1.0,\n",
              " 'class_weight': None,\n",
              " 'dual': False,\n",
              " 'fit_intercept': True,\n",
              " 'intercept_scaling': 1,\n",
              " 'l1_ratio': None,\n",
              " 'max_iter': 100,\n",
              " 'multi_class': 'auto',\n",
              " 'n_jobs': None,\n",
              " 'penalty': 'l2',\n",
              " 'random_state': 0,\n",
              " 'solver': 'liblinear',\n",
              " 'tol': 0.0001,\n",
              " 'verbose': 0,\n",
              " 'warm_start': False}"
            ]
          },
          "metadata": {
            "tags": []
          },
          "execution_count": 22
        }
      ]
    },
    {
      "cell_type": "code",
      "metadata": {
        "id": "420xhvEKh05R",
        "colab_type": "code",
        "colab": {}
      },
      "source": [
        ""
      ],
      "execution_count": 0,
      "outputs": []
    },
    {
      "cell_type": "markdown",
      "metadata": {
        "id": "o0fT4PgEhlvK",
        "colab_type": "text"
      },
      "source": [
        ""
      ]
    }
  ]
}